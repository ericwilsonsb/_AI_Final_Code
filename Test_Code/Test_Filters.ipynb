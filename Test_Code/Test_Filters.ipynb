{
 "cells": [
  {
   "cell_type": "markdown",
   "id": "d9363993",
   "metadata": {},
   "source": [
    "### Test Circuit class"
   ]
  },
  {
   "cell_type": "code",
   "execution_count": null,
   "id": "2e6cae8b",
   "metadata": {},
   "outputs": [
    {
     "name": "stdout",
     "output_type": "stream",
     "text": [
      "[         0    5000000   10000000 ... 4990000000 4995000000 5000000000]\n"
     ]
    }
   ],
   "source": [
    "import numpy as np\n",
    "\n",
    "import sys\n",
    "sys.path.append('../Functions/')\n",
    "import electrical as EE\n",
    "\n",
    "myFilter = EE.Circuit()\n",
    "\n",
    "myFreq = myFilter.compute_freq()\n",
    "\n",
    "print( myFreq )"
   ]
  },
  {
   "cell_type": "markdown",
   "id": "e13adc82",
   "metadata": {},
   "source": [
    "### Test G Coef. Functions"
   ]
  },
  {
   "cell_type": "code",
   "execution_count": null,
   "id": "c227cc23",
   "metadata": {},
   "outputs": [],
   "source": [
    "import numpy as np\n",
    "\n",
    "import importlib\n",
    "import sys\n",
    "sys.path.append('../Functions/')\n",
    "import electrical as EE\n",
    "importlib.reload(EE)\n",
    "\n",
    "\n",
    "chebyshev_g_r = EE.chebyshev_coef(n_max=10, ripple_dB=10)\n",
    "\n",
    "butterworth_g_r = EE.butterworth_coef(n_max=10)\n",
    "\n",
    "g_r_1 = EE.generate_norm_LP_coef(filter_style = \"chebyshev\", n_max = 10, ripple_dB = 15)\n",
    "g_r_2 = EE.generate_norm_LP_coef(filter_style = \"butterworth\", n_max = 10)\n"
   ]
  },
  {
   "cell_type": "markdown",
   "id": "4cc76b12",
   "metadata": {},
   "source": [
    "### Test generate_BP()"
   ]
  },
  {
   "cell_type": "code",
   "execution_count": null,
   "id": "f5905821",
   "metadata": {},
   "outputs": [
    {
     "name": "stdout",
     "output_type": "stream",
     "text": [
      "-------------------------------------------------\n",
      "        C1       C2       C3       C4       C5   \n",
      "     -------- -------- -------- -------- --------\n",
      "L  | 4.09e-08 2.44e-10 6.83e-08 2.44e-10 4.09e-08\n",
      "C  | 1.08e-13  1.8e-11 6.44e-14  1.8e-11 1.08e-13\n",
      "\n",
      "filter_type = chebyshev\n",
      "order = nan\n",
      "freq_center = 2400000000.0\n",
      "frac_BW = 0.1\n",
      "comp_var = 0\n",
      "-------------------------------------------------\n",
      "\n"
     ]
    }
   ],
   "source": [
    "import numpy as np\n",
    "\n",
    "import importlib\n",
    "import sys\n",
    "sys.path.append('../Functions/')\n",
    "import electrical as EE\n",
    "importlib.reload(EE)\n",
    "\n",
    "\n",
    "myBP_1 = EE.generate_BP( filter_style=\"chebyshev\", order=5, ripple_dB=15, freq_center=2.4e9, frac_BW=0.1 )\n",
    "print(myBP_1)\n",
    "\n",
    "myBP_2 = EE.generate_BP( filter_style=\"chebyshev\", order=5, ripple_dB=15, freq_center=2.4e9, frac_BW=0.1, comp_var=0.1 )\n",
    "print(myBP_2)\n",
    "\n",
    "\n",
    "print(\"done\")"
   ]
  },
  {
   "cell_type": "code",
   "execution_count": 50,
   "id": "836464f0",
   "metadata": {},
   "outputs": [
    {
     "name": "stdout",
     "output_type": "stream",
     "text": [
      "0\n",
      "2\n",
      "4\n",
      "------\n",
      "1\n",
      "3\n"
     ]
    }
   ],
   "source": [
    "for col in np.arange(0, 5, 2):\n",
    "    print(col)\n",
    "\n",
    "print(\"------\")\n",
    "\n",
    "for col in np.arange(1, 5, 2):\n",
    "    print(col)"
   ]
  }
 ],
 "metadata": {
  "language_info": {
   "name": "python"
  }
 },
 "nbformat": 4,
 "nbformat_minor": 5
}
